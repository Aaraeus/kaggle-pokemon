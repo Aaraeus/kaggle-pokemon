{
 "cells": [
  {
   "cell_type": "markdown",
   "metadata": {},
   "source": [
    "# Weedle's Cave challenge in R \n",
    "## Predicting wins and losses between pokémon in Gen 1\n",
    "\n",
    "### This is \"Weedle's Cave\" challenge. Can we build a model that'll predict which pocket monster will win or lose?\n",
    "\n",
    "##### Personal objectives: Get familiar with R."
   ]
  },
  {
   "cell_type": "markdown",
   "metadata": {},
   "source": [
    "###### First, Read in the data! We'll read in the pokémon list, the combats that we'll model from, and the final test data that we need to populate for our Kaggle submission. Should be self explanatory, but the super high-level workflow is as follows:\n",
    "\n",
    "1. Profile/clean/investigate the data\n",
    "2. Build some models and see what works well\n",
    "3. Apply the final chosen model to our test data for our Kaggle submission"
   ]
  },
  {
   "cell_type": "code",
   "execution_count": 23,
   "metadata": {},
   "outputs": [],
   "source": [
    "# first row contains variable names, comma is separator \n",
    "# assign the variable id to row names\n",
    "# note the / instead of \\ on mswindows systems \n",
    "\n",
    "data_pokemon <- read.csv(\"/Users/kintesh/Documents/kaggle/pokemon/data/pokemon.csv\")\n",
    "data_combats <- read.csv(\"/Users/kintesh/Documents/kaggle/pokemon/data/combats.csv\")\n",
    "data_tests <- read.csv(\"/Users/kintesh/Documents/kaggle/pokemon/data/tests.csv\")\n",
    "# mydata <- read.table(\"/Users/kintesh/Documents/kaggle/pokemon/data/pokemon.csv\", header=TRUE, \n",
    "#    sep=\",\", row.names=\"id\", quote=\"\")\n",
    "\n",
    "colnames(data_pokemon) = c('PokeNum', 'Name', 'Type1', 'Type2', 'HP', 'Attack', \n",
    "                           'Defense', 'SpAtk', 'SpDef', 'Speed', 'Generation', 'Legendary')"
   ]
  },
  {
   "cell_type": "code",
   "execution_count": 24,
   "metadata": {
    "scrolled": false
   },
   "outputs": [
    {
     "data": {
      "text/html": [
       "<table>\n",
       "<thead><tr><th scope=col>PokeNum</th><th scope=col>Name</th><th scope=col>Type1</th><th scope=col>Type2</th><th scope=col>HP</th><th scope=col>Attack</th><th scope=col>Defense</th><th scope=col>SpAtk</th><th scope=col>SpDef</th><th scope=col>Speed</th><th scope=col>Generation</th><th scope=col>Legendary</th></tr></thead>\n",
       "<tbody>\n",
       "\t<tr><td>1            </td><td>Bulbasaur    </td><td>Grass        </td><td>Poison       </td><td>45           </td><td> 49          </td><td> 49          </td><td> 65          </td><td> 65          </td><td>45           </td><td>1            </td><td>False        </td></tr>\n",
       "\t<tr><td>2            </td><td>Ivysaur      </td><td>Grass        </td><td>Poison       </td><td>60           </td><td> 62          </td><td> 63          </td><td> 80          </td><td> 80          </td><td>60           </td><td>1            </td><td>False        </td></tr>\n",
       "\t<tr><td>3            </td><td>Venusaur     </td><td>Grass        </td><td>Poison       </td><td>80           </td><td> 82          </td><td> 83          </td><td>100          </td><td>100          </td><td>80           </td><td>1            </td><td>False        </td></tr>\n",
       "\t<tr><td>4            </td><td>Mega Venusaur</td><td>Grass        </td><td>Poison       </td><td>80           </td><td>100          </td><td>123          </td><td>122          </td><td>120          </td><td>80           </td><td>1            </td><td>False        </td></tr>\n",
       "\t<tr><td>5            </td><td>Charmander   </td><td>Fire         </td><td>             </td><td>39           </td><td> 52          </td><td> 43          </td><td> 60          </td><td> 50          </td><td>65           </td><td>1            </td><td>False        </td></tr>\n",
       "</tbody>\n",
       "</table>\n"
      ],
      "text/latex": [
       "\\begin{tabular}{r|llllllllllll}\n",
       " PokeNum & Name & Type1 & Type2 & HP & Attack & Defense & SpAtk & SpDef & Speed & Generation & Legendary\\\\\n",
       "\\hline\n",
       "\t 1             & Bulbasaur     & Grass         & Poison        & 45            &  49           &  49           &  65           &  65           & 45            & 1             & False        \\\\\n",
       "\t 2             & Ivysaur       & Grass         & Poison        & 60            &  62           &  63           &  80           &  80           & 60            & 1             & False        \\\\\n",
       "\t 3             & Venusaur      & Grass         & Poison        & 80            &  82           &  83           & 100           & 100           & 80            & 1             & False        \\\\\n",
       "\t 4             & Mega Venusaur & Grass         & Poison        & 80            & 100           & 123           & 122           & 120           & 80            & 1             & False        \\\\\n",
       "\t 5             & Charmander    & Fire          &               & 39            &  52           &  43           &  60           &  50           & 65            & 1             & False        \\\\\n",
       "\\end{tabular}\n"
      ],
      "text/markdown": [
       "\n",
       "PokeNum | Name | Type1 | Type2 | HP | Attack | Defense | SpAtk | SpDef | Speed | Generation | Legendary | \n",
       "|---|---|---|---|---|\n",
       "| 1             | Bulbasaur     | Grass         | Poison        | 45            |  49           |  49           |  65           |  65           | 45            | 1             | False         | \n",
       "| 2             | Ivysaur       | Grass         | Poison        | 60            |  62           |  63           |  80           |  80           | 60            | 1             | False         | \n",
       "| 3             | Venusaur      | Grass         | Poison        | 80            |  82           |  83           | 100           | 100           | 80            | 1             | False         | \n",
       "| 4             | Mega Venusaur | Grass         | Poison        | 80            | 100           | 123           | 122           | 120           | 80            | 1             | False         | \n",
       "| 5             | Charmander    | Fire          |               | 39            |  52           |  43           |  60           |  50           | 65            | 1             | False         | \n",
       "\n",
       "\n"
      ],
      "text/plain": [
       "  PokeNum Name          Type1 Type2  HP Attack Defense SpAtk SpDef Speed\n",
       "1 1       Bulbasaur     Grass Poison 45  49     49      65    65   45   \n",
       "2 2       Ivysaur       Grass Poison 60  62     63      80    80   60   \n",
       "3 3       Venusaur      Grass Poison 80  82     83     100   100   80   \n",
       "4 4       Mega Venusaur Grass Poison 80 100    123     122   120   80   \n",
       "5 5       Charmander    Fire         39  52     43      60    50   65   \n",
       "  Generation Legendary\n",
       "1 1          False    \n",
       "2 1          False    \n",
       "3 1          False    \n",
       "4 1          False    \n",
       "5 1          False    "
      ]
     },
     "metadata": {},
     "output_type": "display_data"
    },
    {
     "data": {
      "text/html": [
       "<table>\n",
       "<thead><tr><th scope=col>First_pokemon</th><th scope=col>Second_pokemon</th><th scope=col>Winner</th></tr></thead>\n",
       "<tbody>\n",
       "\t<tr><td>266</td><td>298</td><td>298</td></tr>\n",
       "\t<tr><td>702</td><td>701</td><td>701</td></tr>\n",
       "\t<tr><td>191</td><td>668</td><td>668</td></tr>\n",
       "\t<tr><td>237</td><td>683</td><td>683</td></tr>\n",
       "\t<tr><td>151</td><td>231</td><td>151</td></tr>\n",
       "</tbody>\n",
       "</table>\n"
      ],
      "text/latex": [
       "\\begin{tabular}{r|lll}\n",
       " First\\_pokemon & Second\\_pokemon & Winner\\\\\n",
       "\\hline\n",
       "\t 266 & 298 & 298\\\\\n",
       "\t 702 & 701 & 701\\\\\n",
       "\t 191 & 668 & 668\\\\\n",
       "\t 237 & 683 & 683\\\\\n",
       "\t 151 & 231 & 151\\\\\n",
       "\\end{tabular}\n"
      ],
      "text/markdown": [
       "\n",
       "First_pokemon | Second_pokemon | Winner | \n",
       "|---|---|---|---|---|\n",
       "| 266 | 298 | 298 | \n",
       "| 702 | 701 | 701 | \n",
       "| 191 | 668 | 668 | \n",
       "| 237 | 683 | 683 | \n",
       "| 151 | 231 | 151 | \n",
       "\n",
       "\n"
      ],
      "text/plain": [
       "  First_pokemon Second_pokemon Winner\n",
       "1 266           298            298   \n",
       "2 702           701            701   \n",
       "3 191           668            668   \n",
       "4 237           683            683   \n",
       "5 151           231            151   "
      ]
     },
     "metadata": {},
     "output_type": "display_data"
    },
    {
     "data": {
      "text/html": [
       "<table>\n",
       "<thead><tr><th scope=col>First_pokemon</th><th scope=col>Second_pokemon</th></tr></thead>\n",
       "<tbody>\n",
       "\t<tr><td>129</td><td>117</td></tr>\n",
       "\t<tr><td>660</td><td>211</td></tr>\n",
       "\t<tr><td>706</td><td>115</td></tr>\n",
       "\t<tr><td>195</td><td>618</td></tr>\n",
       "\t<tr><td> 27</td><td>656</td></tr>\n",
       "</tbody>\n",
       "</table>\n"
      ],
      "text/latex": [
       "\\begin{tabular}{r|ll}\n",
       " First\\_pokemon & Second\\_pokemon\\\\\n",
       "\\hline\n",
       "\t 129 & 117\\\\\n",
       "\t 660 & 211\\\\\n",
       "\t 706 & 115\\\\\n",
       "\t 195 & 618\\\\\n",
       "\t  27 & 656\\\\\n",
       "\\end{tabular}\n"
      ],
      "text/markdown": [
       "\n",
       "First_pokemon | Second_pokemon | \n",
       "|---|---|---|---|---|\n",
       "| 129 | 117 | \n",
       "| 660 | 211 | \n",
       "| 706 | 115 | \n",
       "| 195 | 618 | \n",
       "|  27 | 656 | \n",
       "\n",
       "\n"
      ],
      "text/plain": [
       "  First_pokemon Second_pokemon\n",
       "1 129           117           \n",
       "2 660           211           \n",
       "3 706           115           \n",
       "4 195           618           \n",
       "5  27           656           "
      ]
     },
     "metadata": {},
     "output_type": "display_data"
    }
   ],
   "source": [
    "head(data_pokemon,5)\n",
    "head(data_combats,5)\n",
    "head(data_tests,5)"
   ]
  },
  {
   "cell_type": "markdown",
   "metadata": {},
   "source": [
    "######  Let's get information on the battles and their outcomes - what was pokemon 1, what was their type, etc etc? But first, rename the columns so we can merge more easily."
   ]
  },
  {
   "cell_type": "code",
   "execution_count": 29,
   "metadata": {
    "scrolled": false
   },
   "outputs": [
    {
     "data": {
      "text/html": [
       "<table>\n",
       "<thead><tr><th scope=col>CombatID</th><th scope=col>First_pokemon</th><th scope=col>Second_pokemon</th><th scope=col>Winner</th></tr></thead>\n",
       "<tbody>\n",
       "\t<tr><td>1  </td><td>266</td><td>298</td><td>298</td></tr>\n",
       "\t<tr><td>2  </td><td>702</td><td>701</td><td>701</td></tr>\n",
       "\t<tr><td>3  </td><td>191</td><td>668</td><td>668</td></tr>\n",
       "\t<tr><td>4  </td><td>237</td><td>683</td><td>683</td></tr>\n",
       "\t<tr><td>5  </td><td>151</td><td>231</td><td>151</td></tr>\n",
       "</tbody>\n",
       "</table>\n"
      ],
      "text/latex": [
       "\\begin{tabular}{r|llll}\n",
       " CombatID & First\\_pokemon & Second\\_pokemon & Winner\\\\\n",
       "\\hline\n",
       "\t 1   & 266 & 298 & 298\\\\\n",
       "\t 2   & 702 & 701 & 701\\\\\n",
       "\t 3   & 191 & 668 & 668\\\\\n",
       "\t 4   & 237 & 683 & 683\\\\\n",
       "\t 5   & 151 & 231 & 151\\\\\n",
       "\\end{tabular}\n"
      ],
      "text/markdown": [
       "\n",
       "CombatID | First_pokemon | Second_pokemon | Winner | \n",
       "|---|---|---|---|---|\n",
       "| 1   | 266 | 298 | 298 | \n",
       "| 2   | 702 | 701 | 701 | \n",
       "| 3   | 191 | 668 | 668 | \n",
       "| 4   | 237 | 683 | 683 | \n",
       "| 5   | 151 | 231 | 151 | \n",
       "\n",
       "\n"
      ],
      "text/plain": [
       "  CombatID First_pokemon Second_pokemon Winner\n",
       "1 1        266           298            298   \n",
       "2 2        702           701            701   \n",
       "3 3        191           668            668   \n",
       "4 4        237           683            683   \n",
       "5 5        151           231            151   "
      ]
     },
     "metadata": {},
     "output_type": "display_data"
    },
    {
     "data": {
      "text/html": [
       "<table>\n",
       "<thead><tr><th scope=col>CombatID</th><th scope=col>PokeNum</th></tr></thead>\n",
       "<tbody>\n",
       "\t<tr><td>1  </td><td>266</td></tr>\n",
       "\t<tr><td>2  </td><td>702</td></tr>\n",
       "\t<tr><td>3  </td><td>191</td></tr>\n",
       "\t<tr><td>4  </td><td>237</td></tr>\n",
       "\t<tr><td>5  </td><td>151</td></tr>\n",
       "</tbody>\n",
       "</table>\n"
      ],
      "text/latex": [
       "\\begin{tabular}{r|ll}\n",
       " CombatID & PokeNum\\\\\n",
       "\\hline\n",
       "\t 1   & 266\\\\\n",
       "\t 2   & 702\\\\\n",
       "\t 3   & 191\\\\\n",
       "\t 4   & 237\\\\\n",
       "\t 5   & 151\\\\\n",
       "\\end{tabular}\n"
      ],
      "text/markdown": [
       "\n",
       "CombatID | PokeNum | \n",
       "|---|---|---|---|---|\n",
       "| 1   | 266 | \n",
       "| 2   | 702 | \n",
       "| 3   | 191 | \n",
       "| 4   | 237 | \n",
       "| 5   | 151 | \n",
       "\n",
       "\n"
      ],
      "text/plain": [
       "  CombatID PokeNum\n",
       "1 1        266    \n",
       "2 2        702    \n",
       "3 3        191    \n",
       "4 4        237    \n",
       "5 5        151    "
      ]
     },
     "metadata": {},
     "output_type": "display_data"
    },
    {
     "data": {
      "text/html": [
       "<table>\n",
       "<thead><tr><th scope=col>CombatID</th><th scope=col>PokeNum</th></tr></thead>\n",
       "<tbody>\n",
       "\t<tr><td>1  </td><td>298</td></tr>\n",
       "\t<tr><td>2  </td><td>701</td></tr>\n",
       "\t<tr><td>3  </td><td>668</td></tr>\n",
       "\t<tr><td>4  </td><td>683</td></tr>\n",
       "\t<tr><td>5  </td><td>231</td></tr>\n",
       "</tbody>\n",
       "</table>\n"
      ],
      "text/latex": [
       "\\begin{tabular}{r|ll}\n",
       " CombatID & PokeNum\\\\\n",
       "\\hline\n",
       "\t 1   & 298\\\\\n",
       "\t 2   & 701\\\\\n",
       "\t 3   & 668\\\\\n",
       "\t 4   & 683\\\\\n",
       "\t 5   & 231\\\\\n",
       "\\end{tabular}\n"
      ],
      "text/markdown": [
       "\n",
       "CombatID | PokeNum | \n",
       "|---|---|---|---|---|\n",
       "| 1   | 298 | \n",
       "| 2   | 701 | \n",
       "| 3   | 668 | \n",
       "| 4   | 683 | \n",
       "| 5   | 231 | \n",
       "\n",
       "\n"
      ],
      "text/plain": [
       "  CombatID PokeNum\n",
       "1 1        298    \n",
       "2 2        701    \n",
       "3 3        668    \n",
       "4 4        683    \n",
       "5 5        231    "
      ]
     },
     "metadata": {},
     "output_type": "display_data"
    }
   ],
   "source": [
    "# Create a CombatID for each combat in the combats dataset, just in case we need to join back later. \n",
    "# Using the column bind function to do so.\n",
    "\n",
    "id <- rownames(data_combats)\n",
    "data_combats2 <- cbind(id=id, data_combats)\n",
    "\n",
    "colnames(data_combats2) <- c('CombatID', 'First_pokemon', 'Second_pokemon', 'Winner')\n",
    "# Convert CombatID field to numeric\n",
    "data_combats2[,'CombatID'] <- as.numeric(as.character(data_combats2[,'CombatID']))\n",
    "\n",
    "pokemon_first <- data_combats2[c('CombatID', 'First_pokemon')]\n",
    "colnames(pokemon_first) = c(\"CombatID\", \"PokeNum\")\n",
    "\n",
    "pokemon_second <- data_combats2[c('CombatID', 'Second_pokemon')]\n",
    "colnames(pokemon_second) = c(\"CombatID\", \"PokeNum\")\n",
    "\n",
    "head(data_combats2,5)\n",
    "head(pokemon_first,5)\n",
    "head(pokemon_second,5)"
   ]
  },
  {
   "cell_type": "markdown",
   "metadata": {},
   "source": [
    "######  Merge on the pokemon stats for the first pokemon, then do the same for the second pokemon"
   ]
  },
  {
   "cell_type": "code",
   "execution_count": 30,
   "metadata": {
    "scrolled": false
   },
   "outputs": [
    {
     "data": {
      "text/html": [
       "<dl class=dl-horizontal>\n",
       "\t<dt>PokeNum</dt>\n",
       "\t\t<dd>'integer'</dd>\n",
       "\t<dt>Name</dt>\n",
       "\t\t<dd>'factor'</dd>\n",
       "\t<dt>Type1</dt>\n",
       "\t\t<dd>'factor'</dd>\n",
       "\t<dt>Type2</dt>\n",
       "\t\t<dd>'factor'</dd>\n",
       "\t<dt>HP</dt>\n",
       "\t\t<dd>'integer'</dd>\n",
       "\t<dt>Attack</dt>\n",
       "\t\t<dd>'integer'</dd>\n",
       "\t<dt>Defense</dt>\n",
       "\t\t<dd>'integer'</dd>\n",
       "\t<dt>SpAtk</dt>\n",
       "\t\t<dd>'integer'</dd>\n",
       "\t<dt>SpDef</dt>\n",
       "\t\t<dd>'integer'</dd>\n",
       "\t<dt>Speed</dt>\n",
       "\t\t<dd>'integer'</dd>\n",
       "\t<dt>Generation</dt>\n",
       "\t\t<dd>'integer'</dd>\n",
       "\t<dt>Legendary</dt>\n",
       "\t\t<dd>'factor'</dd>\n",
       "</dl>\n"
      ],
      "text/latex": [
       "\\begin{description*}\n",
       "\\item[PokeNum] 'integer'\n",
       "\\item[Name] 'factor'\n",
       "\\item[Type1] 'factor'\n",
       "\\item[Type2] 'factor'\n",
       "\\item[HP] 'integer'\n",
       "\\item[Attack] 'integer'\n",
       "\\item[Defense] 'integer'\n",
       "\\item[SpAtk] 'integer'\n",
       "\\item[SpDef] 'integer'\n",
       "\\item[Speed] 'integer'\n",
       "\\item[Generation] 'integer'\n",
       "\\item[Legendary] 'factor'\n",
       "\\end{description*}\n"
      ],
      "text/markdown": [
       "PokeNum\n",
       ":   'integer'Name\n",
       ":   'factor'Type1\n",
       ":   'factor'Type2\n",
       ":   'factor'HP\n",
       ":   'integer'Attack\n",
       ":   'integer'Defense\n",
       ":   'integer'SpAtk\n",
       ":   'integer'SpDef\n",
       ":   'integer'Speed\n",
       ":   'integer'Generation\n",
       ":   'integer'Legendary\n",
       ":   'factor'\n",
       "\n"
      ],
      "text/plain": [
       "   PokeNum       Name      Type1      Type2         HP     Attack    Defense \n",
       " \"integer\"   \"factor\"   \"factor\"   \"factor\"  \"integer\"  \"integer\"  \"integer\" \n",
       "     SpAtk      SpDef      Speed Generation  Legendary \n",
       " \"integer\"  \"integer\"  \"integer\"  \"integer\"   \"factor\" "
      ]
     },
     "metadata": {},
     "output_type": "display_data"
    },
    {
     "data": {
      "text/html": [
       "<dl class=dl-horizontal>\n",
       "\t<dt>CombatID</dt>\n",
       "\t\t<dd>'numeric'</dd>\n",
       "\t<dt>PokeNum</dt>\n",
       "\t\t<dd>'integer'</dd>\n",
       "</dl>\n"
      ],
      "text/latex": [
       "\\begin{description*}\n",
       "\\item[CombatID] 'numeric'\n",
       "\\item[PokeNum] 'integer'\n",
       "\\end{description*}\n"
      ],
      "text/markdown": [
       "CombatID\n",
       ":   'numeric'PokeNum\n",
       ":   'integer'\n",
       "\n"
      ],
      "text/plain": [
       " CombatID   PokeNum \n",
       "\"numeric\" \"integer\" "
      ]
     },
     "metadata": {},
     "output_type": "display_data"
    },
    {
     "data": {
      "text/html": [
       "<dl class=dl-horizontal>\n",
       "\t<dt>CombatID</dt>\n",
       "\t\t<dd>'numeric'</dd>\n",
       "\t<dt>PokeNum</dt>\n",
       "\t\t<dd>'integer'</dd>\n",
       "</dl>\n"
      ],
      "text/latex": [
       "\\begin{description*}\n",
       "\\item[CombatID] 'numeric'\n",
       "\\item[PokeNum] 'integer'\n",
       "\\end{description*}\n"
      ],
      "text/markdown": [
       "CombatID\n",
       ":   'numeric'PokeNum\n",
       ":   'integer'\n",
       "\n"
      ],
      "text/plain": [
       " CombatID   PokeNum \n",
       "\"numeric\" \"integer\" "
      ]
     },
     "metadata": {},
     "output_type": "display_data"
    },
    {
     "data": {
      "text/html": [
       "<table>\n",
       "<thead><tr><th></th><th scope=col>PokeNum</th><th scope=col>CombatID</th><th scope=col>Name</th><th scope=col>Type1</th><th scope=col>Type2</th><th scope=col>HP</th><th scope=col>Attack</th><th scope=col>Defense</th><th scope=col>SpAtk</th><th scope=col>SpDef</th><th scope=col>Speed</th><th scope=col>Generation</th><th scope=col>Legendary</th></tr></thead>\n",
       "<tbody>\n",
       "\t<tr><th scope=row>16474</th><td>266     </td><td>1       </td><td>Larvitar</td><td>Rock    </td><td>Ground  </td><td>50      </td><td>64      </td><td> 50     </td><td> 45     </td><td> 50     </td><td> 41     </td><td>2       </td><td>False   </td></tr>\n",
       "\t<tr><th scope=row>43959</th><td>702     </td><td>2       </td><td>Virizion</td><td>Grass   </td><td>Fighting</td><td>91      </td><td>90      </td><td> 72     </td><td> 90     </td><td>129     </td><td>108     </td><td>5       </td><td>True    </td></tr>\n",
       "\t<tr><th scope=row>11690</th><td>191     </td><td>3       </td><td>Togetic </td><td>Fairy   </td><td>Flying  </td><td>55      </td><td>40      </td><td> 85     </td><td> 80     </td><td>105     </td><td> 40     </td><td>2       </td><td>False   </td></tr>\n",
       "\t<tr><th scope=row>14633</th><td>237     </td><td>4       </td><td>Slugma  </td><td>Fire    </td><td>        </td><td>40      </td><td>40      </td><td> 40     </td><td> 70     </td><td> 40     </td><td> 20     </td><td>2       </td><td>False   </td></tr>\n",
       "\t<tr><th scope=row>9235</th><td>151     </td><td>5       </td><td>Omastar </td><td>Rock    </td><td>Water   </td><td>70      </td><td>60      </td><td>125     </td><td>115     </td><td> 70     </td><td> 55     </td><td>1       </td><td>False   </td></tr>\n",
       "</tbody>\n",
       "</table>\n"
      ],
      "text/latex": [
       "\\begin{tabular}{r|lllllllllllll}\n",
       "  & PokeNum & CombatID & Name & Type1 & Type2 & HP & Attack & Defense & SpAtk & SpDef & Speed & Generation & Legendary\\\\\n",
       "\\hline\n",
       "\t16474 & 266      & 1        & Larvitar & Rock     & Ground   & 50       & 64       &  50      &  45      &  50      &  41      & 2        & False   \\\\\n",
       "\t43959 & 702      & 2        & Virizion & Grass    & Fighting & 91       & 90       &  72      &  90      & 129      & 108      & 5        & True    \\\\\n",
       "\t11690 & 191      & 3        & Togetic  & Fairy    & Flying   & 55       & 40       &  85      &  80      & 105      &  40      & 2        & False   \\\\\n",
       "\t14633 & 237      & 4        & Slugma   & Fire     &          & 40       & 40       &  40      &  70      &  40      &  20      & 2        & False   \\\\\n",
       "\t9235 & 151      & 5        & Omastar  & Rock     & Water    & 70       & 60       & 125      & 115      &  70      &  55      & 1        & False   \\\\\n",
       "\\end{tabular}\n"
      ],
      "text/markdown": [
       "\n",
       "| <!--/--> | PokeNum | CombatID | Name | Type1 | Type2 | HP | Attack | Defense | SpAtk | SpDef | Speed | Generation | Legendary | \n",
       "|---|---|---|---|---|\n",
       "| 16474 | 266      | 1        | Larvitar | Rock     | Ground   | 50       | 64       |  50      |  45      |  50      |  41      | 2        | False    | \n",
       "| 43959 | 702      | 2        | Virizion | Grass    | Fighting | 91       | 90       |  72      |  90      | 129      | 108      | 5        | True     | \n",
       "| 11690 | 191      | 3        | Togetic  | Fairy    | Flying   | 55       | 40       |  85      |  80      | 105      |  40      | 2        | False    | \n",
       "| 14633 | 237      | 4        | Slugma   | Fire     |          | 40       | 40       |  40      |  70      |  40      |  20      | 2        | False    | \n",
       "| 9235 | 151      | 5        | Omastar  | Rock     | Water    | 70       | 60       | 125      | 115      |  70      |  55      | 1        | False    | \n",
       "\n",
       "\n"
      ],
      "text/plain": [
       "      PokeNum CombatID Name     Type1 Type2    HP Attack Defense SpAtk SpDef\n",
       "16474 266     1        Larvitar Rock  Ground   50 64      50      45    50  \n",
       "43959 702     2        Virizion Grass Fighting 91 90      72      90   129  \n",
       "11690 191     3        Togetic  Fairy Flying   55 40      85      80   105  \n",
       "14633 237     4        Slugma   Fire           40 40      40      70    40  \n",
       "9235  151     5        Omastar  Rock  Water    70 60     125     115    70  \n",
       "      Speed Generation Legendary\n",
       "16474  41   2          False    \n",
       "43959 108   5          True     \n",
       "11690  40   2          False    \n",
       "14633  20   2          False    \n",
       "9235   55   1          False    "
      ]
     },
     "metadata": {},
     "output_type": "display_data"
    },
    {
     "data": {
      "text/html": [
       "<table>\n",
       "<thead><tr><th></th><th scope=col>PokeNum</th><th scope=col>CombatID</th><th scope=col>Name</th><th scope=col>Type1</th><th scope=col>Type2</th><th scope=col>HP</th><th scope=col>Attack</th><th scope=col>Defense</th><th scope=col>SpAtk</th><th scope=col>SpDef</th><th scope=col>Speed</th><th scope=col>Generation</th><th scope=col>Legendary</th></tr></thead>\n",
       "<tbody>\n",
       "\t<tr><th scope=row>18329</th><td>298      </td><td>1        </td><td>Nuzleaf  </td><td>Grass    </td><td>Dark     </td><td>70       </td><td> 70      </td><td> 40      </td><td> 60      </td><td> 40      </td><td> 60      </td><td>3        </td><td>False    </td></tr>\n",
       "\t<tr><th scope=row>43682</th><td>701      </td><td>2        </td><td>Terrakion</td><td>Rock     </td><td>Fighting </td><td>91       </td><td>129      </td><td> 90      </td><td> 72      </td><td> 90      </td><td>108      </td><td>5        </td><td>True     </td></tr>\n",
       "\t<tr><th scope=row>41535</th><td>668      </td><td>3        </td><td>Beheeyem </td><td>Psychic  </td><td>         </td><td>75       </td><td> 75      </td><td> 75      </td><td>125      </td><td> 95      </td><td> 40      </td><td>5        </td><td>False    </td></tr>\n",
       "\t<tr><th scope=row>42497</th><td>683      </td><td>4        </td><td>Druddigon</td><td>Dragon   </td><td>         </td><td>77       </td><td>120      </td><td> 90      </td><td> 60      </td><td> 90      </td><td> 48      </td><td>5        </td><td>False    </td></tr>\n",
       "\t<tr><th scope=row>14121</th><td>231      </td><td>5        </td><td>Shuckle  </td><td>Bug      </td><td>Rock     </td><td>20       </td><td> 10      </td><td>230      </td><td> 10      </td><td>230      </td><td>  5      </td><td>2        </td><td>False    </td></tr>\n",
       "</tbody>\n",
       "</table>\n"
      ],
      "text/latex": [
       "\\begin{tabular}{r|lllllllllllll}\n",
       "  & PokeNum & CombatID & Name & Type1 & Type2 & HP & Attack & Defense & SpAtk & SpDef & Speed & Generation & Legendary\\\\\n",
       "\\hline\n",
       "\t18329 & 298       & 1         & Nuzleaf   & Grass     & Dark      & 70        &  70       &  40       &  60       &  40       &  60       & 3         & False    \\\\\n",
       "\t43682 & 701       & 2         & Terrakion & Rock      & Fighting  & 91        & 129       &  90       &  72       &  90       & 108       & 5         & True     \\\\\n",
       "\t41535 & 668       & 3         & Beheeyem  & Psychic   &           & 75        &  75       &  75       & 125       &  95       &  40       & 5         & False    \\\\\n",
       "\t42497 & 683       & 4         & Druddigon & Dragon    &           & 77        & 120       &  90       &  60       &  90       &  48       & 5         & False    \\\\\n",
       "\t14121 & 231       & 5         & Shuckle   & Bug       & Rock      & 20        &  10       & 230       &  10       & 230       &   5       & 2         & False    \\\\\n",
       "\\end{tabular}\n"
      ],
      "text/markdown": [
       "\n",
       "| <!--/--> | PokeNum | CombatID | Name | Type1 | Type2 | HP | Attack | Defense | SpAtk | SpDef | Speed | Generation | Legendary | \n",
       "|---|---|---|---|---|\n",
       "| 18329 | 298       | 1         | Nuzleaf   | Grass     | Dark      | 70        |  70       |  40       |  60       |  40       |  60       | 3         | False     | \n",
       "| 43682 | 701       | 2         | Terrakion | Rock      | Fighting  | 91        | 129       |  90       |  72       |  90       | 108       | 5         | True      | \n",
       "| 41535 | 668       | 3         | Beheeyem  | Psychic   |           | 75        |  75       |  75       | 125       |  95       |  40       | 5         | False     | \n",
       "| 42497 | 683       | 4         | Druddigon | Dragon    |           | 77        | 120       |  90       |  60       |  90       |  48       | 5         | False     | \n",
       "| 14121 | 231       | 5         | Shuckle   | Bug       | Rock      | 20        |  10       | 230       |  10       | 230       |   5       | 2         | False     | \n",
       "\n",
       "\n"
      ],
      "text/plain": [
       "      PokeNum CombatID Name      Type1   Type2    HP Attack Defense SpAtk SpDef\n",
       "18329 298     1        Nuzleaf   Grass   Dark     70  70     40      60    40  \n",
       "43682 701     2        Terrakion Rock    Fighting 91 129     90      72    90  \n",
       "41535 668     3        Beheeyem  Psychic          75  75     75     125    95  \n",
       "42497 683     4        Druddigon Dragon           77 120     90      60    90  \n",
       "14121 231     5        Shuckle   Bug     Rock     20  10    230      10   230  \n",
       "      Speed Generation Legendary\n",
       "18329  60   3          False    \n",
       "43682 108   5          True     \n",
       "41535  40   5          False    \n",
       "42497  48   5          False    \n",
       "14121   5   2          False    "
      ]
     },
     "metadata": {},
     "output_type": "display_data"
    }
   ],
   "source": [
    "# Check the types in each column before we begin.\n",
    "sapply(data_pokemon, class)\n",
    "sapply(pokemon_first, class)\n",
    "sapply(pokemon_second, class)\n",
    "\n",
    "combats_1_stats <- merge(x = pokemon_first,  y = data_pokemon, by = \"PokeNum\", all.x = TRUE)\n",
    "combats_2_stats <- merge(x = pokemon_second, y = data_pokemon, by = 'PokeNum', all.x = TRUE)\n",
    "\n",
    "# Order the data in place\n",
    "combats_1_stats <- combats_1_stats[order(combats_1_stats$CombatID),]\n",
    "combats_2_stats <- combats_2_stats[order(combats_2_stats$CombatID),] \n",
    "\n",
    "head(combats_1_stats,5)\n",
    "head(combats_2_stats,5)"
   ]
  }
 ],
 "metadata": {
  "kernelspec": {
   "display_name": "R",
   "language": "R",
   "name": "ir"
  },
  "language_info": {
   "codemirror_mode": "r",
   "file_extension": ".r",
   "mimetype": "text/x-r-source",
   "name": "R",
   "pygments_lexer": "r",
   "version": "3.5.1"
  }
 },
 "nbformat": 4,
 "nbformat_minor": 2
}
