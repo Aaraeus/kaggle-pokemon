{
 "cells": [
  {
   "cell_type": "markdown",
   "metadata": {},
   "source": [
    "# Weedle's Cave challenge in R \n",
    "## Predicting wins and losses between pokémon in Gen 1\n",
    "\n",
    "### This is \"Weedle's Cave\" challenge. Can we build a model that'll predict which pocket monster will win or lose?\n",
    "\n",
    "##### Personal objectives: Get familiar with R."
   ]
  },
  {
   "cell_type": "markdown",
   "metadata": {},
   "source": [
    "###### First, Read in the data! We'll read in the pokémon list, the combats that we'll model from, and the final test data that we need to populate for our Kaggle submission. Should be self explanatory, but the super high-level workflow is as follows:\n",
    "\n",
    "1. Profile/clean/investigate the data\n",
    "2. Build some models and see what works well\n",
    "3. Apply the final chosen model to our test data for our Kaggle submission"
   ]
  },
  {
   "cell_type": "code",
   "execution_count": 18,
   "metadata": {},
   "outputs": [],
   "source": [
    "# first row contains variable names, comma is separator \n",
    "# assign the variable id to row names\n",
    "# note the / instead of \\ on mswindows systems \n",
    "\n",
    "data_pokemon <- read.csv(\"/Users/kintesh/Documents/kaggle/pokemon/data/pokemon.csv\")\n",
    "data_combats <- read.csv(\"/Users/kintesh/Documents/kaggle/pokemon/data/combats.csv\")\n",
    "data_tests <- read.csv(\"/Users/kintesh/Documents/kaggle/pokemon/data/tests.csv\")\n",
    "# mydata <- read.table(\"/Users/kintesh/Documents/kaggle/pokemon/data/pokemon.csv\", header=TRUE, \n",
    "#    sep=\",\", row.names=\"id\", quote=\"\")"
   ]
  },
  {
   "cell_type": "code",
   "execution_count": 19,
   "metadata": {},
   "outputs": [
    {
     "data": {
      "text/html": [
       "<table>\n",
       "<thead><tr><th scope=col>X.</th><th scope=col>Name</th><th scope=col>Type.1</th><th scope=col>Type.2</th><th scope=col>HP</th><th scope=col>Attack</th><th scope=col>Defense</th><th scope=col>Sp..Atk</th><th scope=col>Sp..Def</th><th scope=col>Speed</th><th scope=col>Generation</th><th scope=col>Legendary</th></tr></thead>\n",
       "<tbody>\n",
       "\t<tr><td>1            </td><td>Bulbasaur    </td><td>Grass        </td><td>Poison       </td><td>45           </td><td> 49          </td><td> 49          </td><td> 65          </td><td> 65          </td><td>45           </td><td>1            </td><td>False        </td></tr>\n",
       "\t<tr><td>2            </td><td>Ivysaur      </td><td>Grass        </td><td>Poison       </td><td>60           </td><td> 62          </td><td> 63          </td><td> 80          </td><td> 80          </td><td>60           </td><td>1            </td><td>False        </td></tr>\n",
       "\t<tr><td>3            </td><td>Venusaur     </td><td>Grass        </td><td>Poison       </td><td>80           </td><td> 82          </td><td> 83          </td><td>100          </td><td>100          </td><td>80           </td><td>1            </td><td>False        </td></tr>\n",
       "\t<tr><td>4            </td><td>Mega Venusaur</td><td>Grass        </td><td>Poison       </td><td>80           </td><td>100          </td><td>123          </td><td>122          </td><td>120          </td><td>80           </td><td>1            </td><td>False        </td></tr>\n",
       "\t<tr><td>5            </td><td>Charmander   </td><td>Fire         </td><td>             </td><td>39           </td><td> 52          </td><td> 43          </td><td> 60          </td><td> 50          </td><td>65           </td><td>1            </td><td>False        </td></tr>\n",
       "</tbody>\n",
       "</table>\n"
      ],
      "text/latex": [
       "\\begin{tabular}{r|llllllllllll}\n",
       " X. & Name & Type.1 & Type.2 & HP & Attack & Defense & Sp..Atk & Sp..Def & Speed & Generation & Legendary\\\\\n",
       "\\hline\n",
       "\t 1             & Bulbasaur     & Grass         & Poison        & 45            &  49           &  49           &  65           &  65           & 45            & 1             & False        \\\\\n",
       "\t 2             & Ivysaur       & Grass         & Poison        & 60            &  62           &  63           &  80           &  80           & 60            & 1             & False        \\\\\n",
       "\t 3             & Venusaur      & Grass         & Poison        & 80            &  82           &  83           & 100           & 100           & 80            & 1             & False        \\\\\n",
       "\t 4             & Mega Venusaur & Grass         & Poison        & 80            & 100           & 123           & 122           & 120           & 80            & 1             & False        \\\\\n",
       "\t 5             & Charmander    & Fire          &               & 39            &  52           &  43           &  60           &  50           & 65            & 1             & False        \\\\\n",
       "\\end{tabular}\n"
      ],
      "text/markdown": [
       "\n",
       "| X. | Name | Type.1 | Type.2 | HP | Attack | Defense | Sp..Atk | Sp..Def | Speed | Generation | Legendary |\n",
       "|---|---|---|---|---|---|---|---|---|---|---|---|\n",
       "| 1             | Bulbasaur     | Grass         | Poison        | 45            |  49           |  49           |  65           |  65           | 45            | 1             | False         |\n",
       "| 2             | Ivysaur       | Grass         | Poison        | 60            |  62           |  63           |  80           |  80           | 60            | 1             | False         |\n",
       "| 3             | Venusaur      | Grass         | Poison        | 80            |  82           |  83           | 100           | 100           | 80            | 1             | False         |\n",
       "| 4             | Mega Venusaur | Grass         | Poison        | 80            | 100           | 123           | 122           | 120           | 80            | 1             | False         |\n",
       "| 5             | Charmander    | Fire          |               | 39            |  52           |  43           |  60           |  50           | 65            | 1             | False         |\n",
       "\n"
      ],
      "text/plain": [
       "  X. Name          Type.1 Type.2 HP Attack Defense Sp..Atk Sp..Def Speed\n",
       "1 1  Bulbasaur     Grass  Poison 45  49     49      65      65     45   \n",
       "2 2  Ivysaur       Grass  Poison 60  62     63      80      80     60   \n",
       "3 3  Venusaur      Grass  Poison 80  82     83     100     100     80   \n",
       "4 4  Mega Venusaur Grass  Poison 80 100    123     122     120     80   \n",
       "5 5  Charmander    Fire          39  52     43      60      50     65   \n",
       "  Generation Legendary\n",
       "1 1          False    \n",
       "2 1          False    \n",
       "3 1          False    \n",
       "4 1          False    \n",
       "5 1          False    "
      ]
     },
     "metadata": {},
     "output_type": "display_data"
    },
    {
     "data": {
      "text/html": [
       "<table>\n",
       "<thead><tr><th scope=col>First_pokemon</th><th scope=col>Second_pokemon</th><th scope=col>Winner</th></tr></thead>\n",
       "<tbody>\n",
       "\t<tr><td>266</td><td>298</td><td>298</td></tr>\n",
       "\t<tr><td>702</td><td>701</td><td>701</td></tr>\n",
       "\t<tr><td>191</td><td>668</td><td>668</td></tr>\n",
       "\t<tr><td>237</td><td>683</td><td>683</td></tr>\n",
       "\t<tr><td>151</td><td>231</td><td>151</td></tr>\n",
       "</tbody>\n",
       "</table>\n"
      ],
      "text/latex": [
       "\\begin{tabular}{r|lll}\n",
       " First\\_pokemon & Second\\_pokemon & Winner\\\\\n",
       "\\hline\n",
       "\t 266 & 298 & 298\\\\\n",
       "\t 702 & 701 & 701\\\\\n",
       "\t 191 & 668 & 668\\\\\n",
       "\t 237 & 683 & 683\\\\\n",
       "\t 151 & 231 & 151\\\\\n",
       "\\end{tabular}\n"
      ],
      "text/markdown": [
       "\n",
       "| First_pokemon | Second_pokemon | Winner |\n",
       "|---|---|---|\n",
       "| 266 | 298 | 298 |\n",
       "| 702 | 701 | 701 |\n",
       "| 191 | 668 | 668 |\n",
       "| 237 | 683 | 683 |\n",
       "| 151 | 231 | 151 |\n",
       "\n"
      ],
      "text/plain": [
       "  First_pokemon Second_pokemon Winner\n",
       "1 266           298            298   \n",
       "2 702           701            701   \n",
       "3 191           668            668   \n",
       "4 237           683            683   \n",
       "5 151           231            151   "
      ]
     },
     "metadata": {},
     "output_type": "display_data"
    },
    {
     "data": {
      "text/html": [
       "<table>\n",
       "<thead><tr><th scope=col>First_pokemon</th><th scope=col>Second_pokemon</th></tr></thead>\n",
       "<tbody>\n",
       "\t<tr><td>129</td><td>117</td></tr>\n",
       "\t<tr><td>660</td><td>211</td></tr>\n",
       "\t<tr><td>706</td><td>115</td></tr>\n",
       "\t<tr><td>195</td><td>618</td></tr>\n",
       "\t<tr><td> 27</td><td>656</td></tr>\n",
       "</tbody>\n",
       "</table>\n"
      ],
      "text/latex": [
       "\\begin{tabular}{r|ll}\n",
       " First\\_pokemon & Second\\_pokemon\\\\\n",
       "\\hline\n",
       "\t 129 & 117\\\\\n",
       "\t 660 & 211\\\\\n",
       "\t 706 & 115\\\\\n",
       "\t 195 & 618\\\\\n",
       "\t  27 & 656\\\\\n",
       "\\end{tabular}\n"
      ],
      "text/markdown": [
       "\n",
       "| First_pokemon | Second_pokemon |\n",
       "|---|---|\n",
       "| 129 | 117 |\n",
       "| 660 | 211 |\n",
       "| 706 | 115 |\n",
       "| 195 | 618 |\n",
       "|  27 | 656 |\n",
       "\n"
      ],
      "text/plain": [
       "  First_pokemon Second_pokemon\n",
       "1 129           117           \n",
       "2 660           211           \n",
       "3 706           115           \n",
       "4 195           618           \n",
       "5  27           656           "
      ]
     },
     "metadata": {},
     "output_type": "display_data"
    }
   ],
   "source": [
    "head(data_pokemon,5)\n",
    "head(data_combats,5)\n",
    "head(data_tests,5)"
   ]
  },
  {
   "cell_type": "code",
   "execution_count": null,
   "metadata": {},
   "outputs": [],
   "source": []
  }
 ],
 "metadata": {
  "kernelspec": {
   "display_name": "R",
   "language": "R",
   "name": "ir"
  },
  "language_info": {
   "codemirror_mode": "r",
   "file_extension": ".r",
   "mimetype": "text/x-r-source",
   "name": "R",
   "pygments_lexer": "r",
   "version": "3.6.1"
  }
 },
 "nbformat": 4,
 "nbformat_minor": 2
}
